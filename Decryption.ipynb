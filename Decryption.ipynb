{
 "cells": [
  {
   "cell_type": "code",
   "execution_count": null,
   "id": "e680ed02-7894-44f8-a48c-60f267dd20c3",
   "metadata": {},
   "outputs": [],
   "source": [
    "import cv2  \n",
    "import hashlib\n",
    "\n",
    "d = {chr(i): i for i in range(256)}\n",
    "index_to_char = {i: chr(i) for i in range(256)}\n",
    "\n",
    "def load_positions():\n",
    "    try:\n",
    "        with open(\"positions.txt\", \"r\") as f:\n",
    "            return [tuple(map(int, line.strip().split(','))) for line in f]\n",
    "    except FileNotFoundError:\n",
    "        print(\"Error: positions.txt not found!\")\n",
    "        return []\n",
    "\n",
    "def decrypt_message(image_path, password):\n",
    "    try:\n",
    "        with open(\"key.txt\", \"r\") as f:\n",
    "            correct_password = f.read().strip()\n",
    "    except FileNotFoundError:\n",
    "        print(\"Error: key.txt not found!\")\n",
    "        return \"\"\n",
    "    \n",
    "    hashed_input_password = hashlib.sha256(password.encode()).hexdigest()\n",
    "    \n",
    "    if hashed_input_password != correct_password:\n",
    "        print(\"Incorrect password!\")\n",
    "        return \"\"\n",
    "\n",
    "    img = cv2.imread(image_path)\n",
    "    if img is None:\n",
    "        print(\"Error: Could not read the image.\")\n",
    "        return \"\"\n",
    "\n",
    "    positions = load_positions()\n",
    "    if not positions:\n",
    "        return \"\"\n",
    "\n",
    "    decrypted_message = []\n",
    "    for x, y, z in positions:\n",
    "        if 0 <= x < img.shape[1] and 0 <= y < img.shape[0] and 0 <= z < 3:\n",
    "            index = img[y, x, z]\n",
    "            char = index_to_char.get(index, '?')\n",
    "            decrypted_message.append(char)\n",
    "\n",
    "    decrypted_message = ''.join(decrypted_message)\n",
    "    \n",
    "    print(\"Decrypted message:\", decrypted_message)\n",
    "    return decrypted_message\n",
    "\n",
    "if __name__ == \"__main__\":\n",
    "    password = input(\"Enter passcode: \")\n",
    "    decrypt_message(\"encryptedImage.png\", password)\n"
   ]
  }
 ],
 "metadata": {
  "kernelspec": {
   "display_name": "Python 3 (ipykernel)",
   "language": "python",
   "name": "python3"
  },
  "language_info": {
   "codemirror_mode": {
    "name": "ipython",
    "version": 3
   },
   "file_extension": ".py",
   "mimetype": "text/x-python",
   "name": "python",
   "nbconvert_exporter": "python",
   "pygments_lexer": "ipython3",
   "version": "3.10.11"
  }
 },
 "nbformat": 4,
 "nbformat_minor": 5
}
